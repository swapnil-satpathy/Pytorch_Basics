{
  "nbformat": 4,
  "nbformat_minor": 0,
  "metadata": {
    "colab": {
      "name": "PyTorch.ipynb",
      "provenance": [],
      "collapsed_sections": []
    },
    "kernelspec": {
      "name": "python3",
      "display_name": "Python 3"
    },
    "accelerator": "GPU"
  },
  "cells": [
    {
      "cell_type": "markdown",
      "metadata": {
        "id": "mxyUbitv7Eyy",
        "colab_type": "text"
      },
      "source": [
        "Introduction to PyTorch"
      ]
    },
    {
      "cell_type": "code",
      "metadata": {
        "id": "fZU8IbPH7H83",
        "colab_type": "code",
        "colab": {}
      },
      "source": [
        "import torch\n",
        "import numpy as np\n",
        "import matplotlib.pyplot as plt"
      ],
      "execution_count": 2,
      "outputs": []
    },
    {
      "cell_type": "markdown",
      "metadata": {
        "id": "JVmtHcQu7a7V",
        "colab_type": "text"
      },
      "source": [
        "PyTorch provides two high-level features:\n",
        "\n",
        "1) Tensor computation like numpy with strong GPU acceleration.\n",
        "2) Deep Neural Networks built on a tape-based autodiff system"
      ]
    },
    {
      "cell_type": "code",
      "metadata": {
        "id": "whTIU3mF743I",
        "colab_type": "code",
        "colab": {
          "base_uri": "https://localhost:8080/",
          "height": 170
        },
        "outputId": "43f37c65-ba6c-4bf7-cbd2-459d2a2c82ea"
      },
      "source": [
        "x=torch.ones(3,2)\n",
        "print(x)\n",
        "\n",
        "y=torch.zeros(3,2)\n",
        "print(y)\n",
        "\n",
        "z=torch.rand(3,2)\n",
        "print(z)"
      ],
      "execution_count": 3,
      "outputs": [
        {
          "output_type": "stream",
          "text": [
            "tensor([[1., 1.],\n",
            "        [1., 1.],\n",
            "        [1., 1.]])\n",
            "tensor([[0., 0.],\n",
            "        [0., 0.],\n",
            "        [0., 0.]])\n",
            "tensor([[0.9961, 0.1715],\n",
            "        [0.4209, 0.4257],\n",
            "        [0.9781, 0.9163]])\n"
          ],
          "name": "stdout"
        }
      ]
    },
    {
      "cell_type": "code",
      "metadata": {
        "id": "XDQrvqK69qhd",
        "colab_type": "code",
        "colab": {
          "base_uri": "https://localhost:8080/",
          "height": 68
        },
        "outputId": "bc1fb92d-4fb6-4d18-f092-c648d935b856"
      },
      "source": [
        "x=torch.empty(3,2)\n",
        "print(x)"
      ],
      "execution_count": 4,
      "outputs": [
        {
          "output_type": "stream",
          "text": [
            "tensor([[1.8971e-35, 0.0000e+00],\n",
            "        [3.3631e-44, 0.0000e+00],\n",
            "        [       nan, 0.0000e+00]])\n"
          ],
          "name": "stdout"
        }
      ]
    },
    {
      "cell_type": "code",
      "metadata": {
        "id": "StMISYoJ96Xb",
        "colab_type": "code",
        "colab": {}
      },
      "source": [
        "y=torch.zeros_like(x)"
      ],
      "execution_count": 5,
      "outputs": []
    },
    {
      "cell_type": "code",
      "metadata": {
        "id": "_1Hpe2T1-Eb3",
        "colab_type": "code",
        "colab": {
          "base_uri": "https://localhost:8080/",
          "height": 68
        },
        "outputId": "19a3c5b2-a8a1-45e0-c830-3a43a4cc94b0"
      },
      "source": [
        "y"
      ],
      "execution_count": 6,
      "outputs": [
        {
          "output_type": "execute_result",
          "data": {
            "text/plain": [
              "tensor([[0., 0.],\n",
              "        [0., 0.],\n",
              "        [0., 0.]])"
            ]
          },
          "metadata": {
            "tags": []
          },
          "execution_count": 6
        }
      ]
    },
    {
      "cell_type": "markdown",
      "metadata": {
        "id": "8iFCSq0G-iwg",
        "colab_type": "text"
      },
      "source": [
        "Accessing tensors"
      ]
    },
    {
      "cell_type": "code",
      "metadata": {
        "id": "LiL6LvHr-FXi",
        "colab_type": "code",
        "colab": {
          "base_uri": "https://localhost:8080/",
          "height": 34
        },
        "outputId": "e2af37c1-8138-4ac3-94dd-31ce538c2216"
      },
      "source": [
        "x=torch.tensor([[1,2],\n",
        "                [3,5],\n",
        "                [7,8]])\n",
        "\n",
        "# To access the 2nd row and 2nd column element\n",
        "t=x[1,1]\n",
        "print(t)"
      ],
      "execution_count": 7,
      "outputs": [
        {
          "output_type": "stream",
          "text": [
            "tensor(5)\n"
          ],
          "name": "stdout"
        }
      ]
    },
    {
      "cell_type": "code",
      "metadata": {
        "id": "V9J8fg4y-2-1",
        "colab_type": "code",
        "colab": {
          "base_uri": "https://localhost:8080/",
          "height": 34
        },
        "outputId": "3749ab3c-c62e-432f-a575-5992d164098d"
      },
      "source": [
        "t.item()   #to get the value"
      ],
      "execution_count": 8,
      "outputs": [
        {
          "output_type": "execute_result",
          "data": {
            "text/plain": [
              "5"
            ]
          },
          "metadata": {
            "tags": []
          },
          "execution_count": 8
        }
      ]
    },
    {
      "cell_type": "code",
      "metadata": {
        "id": "F3N-ubdZ-97S",
        "colab_type": "code",
        "colab": {
          "base_uri": "https://localhost:8080/",
          "height": 51
        },
        "outputId": "b671ff74-1f78-48e1-f525-3faf7eae4baa"
      },
      "source": [
        "y=x.view(2,3)   # Like the reshape operation in numpy\n",
        "print(y)"
      ],
      "execution_count": 9,
      "outputs": [
        {
          "output_type": "stream",
          "text": [
            "tensor([[1, 2, 3],\n",
            "        [5, 7, 8]])\n"
          ],
          "name": "stdout"
        }
      ]
    },
    {
      "cell_type": "code",
      "metadata": {
        "id": "l9uVswsD_Nmz",
        "colab_type": "code",
        "colab": {
          "base_uri": "https://localhost:8080/",
          "height": 119
        },
        "outputId": "8f991992-8926-47f2-eb76-14afbff5cf55"
      },
      "source": [
        "z=x.view(6,-1)\n",
        "print(z)"
      ],
      "execution_count": 10,
      "outputs": [
        {
          "output_type": "stream",
          "text": [
            "tensor([[1],\n",
            "        [2],\n",
            "        [3],\n",
            "        [5],\n",
            "        [7],\n",
            "        [8]])\n"
          ],
          "name": "stdout"
        }
      ]
    },
    {
      "cell_type": "code",
      "metadata": {
        "id": "0dT9BMhP_Sz4",
        "colab_type": "code",
        "colab": {
          "base_uri": "https://localhost:8080/",
          "height": 34
        },
        "outputId": "8106ace0-b8e9-4c75-be2b-3272ae544f1a"
      },
      "source": [
        "# To get the size of the tensor we can do:\n",
        "\n",
        "z.size()"
      ],
      "execution_count": 11,
      "outputs": [
        {
          "output_type": "execute_result",
          "data": {
            "text/plain": [
              "torch.Size([6, 1])"
            ]
          },
          "metadata": {
            "tags": []
          },
          "execution_count": 11
        }
      ]
    },
    {
      "cell_type": "markdown",
      "metadata": {
        "id": "ax57U98EAIk3",
        "colab_type": "text"
      },
      "source": [
        "\n",
        "\n",
        "```\n",
        "\n",
        "NUMPY -> PYTORCH \n",
        "PYTORCH -> NUMPY\n",
        "```\n",
        "\n"
      ]
    },
    {
      "cell_type": "code",
      "metadata": {
        "id": "5HJM-hA2_dY-",
        "colab_type": "code",
        "colab": {
          "base_uri": "https://localhost:8080/",
          "height": 51
        },
        "outputId": "99e1109a-8955-4780-fe99-bf020c5ff9f0"
      },
      "source": [
        "x_np=x.numpy()\n",
        "print(type(x_np))\n",
        "print(type(x))"
      ],
      "execution_count": 12,
      "outputs": [
        {
          "output_type": "stream",
          "text": [
            "<class 'numpy.ndarray'>\n",
            "<class 'torch.Tensor'>\n"
          ],
          "name": "stdout"
        }
      ]
    },
    {
      "cell_type": "code",
      "metadata": {
        "id": "EDJRFkhbAgIi",
        "colab_type": "code",
        "colab": {
          "base_uri": "https://localhost:8080/",
          "height": 51
        },
        "outputId": "baee5493-0047-4797-9974-b43ff873d402"
      },
      "source": [
        "a=np.random.randn(5)\n",
        "a_pt=torch.from_numpy(a)\n",
        "print(type(a))\n",
        "print(type(a_pt))"
      ],
      "execution_count": 13,
      "outputs": [
        {
          "output_type": "stream",
          "text": [
            "<class 'numpy.ndarray'>\n",
            "<class 'torch.Tensor'>\n"
          ],
          "name": "stdout"
        }
      ]
    },
    {
      "cell_type": "code",
      "metadata": {
        "id": "UKtm3zjuAxZy",
        "colab_type": "code",
        "colab": {
          "base_uri": "https://localhost:8080/",
          "height": 51
        },
        "outputId": "f0bd21b1-f9b7-441b-aeed-1b199ae0f141"
      },
      "source": [
        "%%time\n",
        "for i in range(100):\n",
        "  a=np.random.randn(100,100)\n",
        "  b=np.random.randn(100,100)\n",
        "  # c=a*b\n",
        "  c=np.matmul(a,b)\n"
      ],
      "execution_count": 14,
      "outputs": [
        {
          "output_type": "stream",
          "text": [
            "CPU times: user 140 ms, sys: 116 ms, total: 256 ms\n",
            "Wall time: 144 ms\n"
          ],
          "name": "stdout"
        }
      ]
    },
    {
      "cell_type": "code",
      "metadata": {
        "id": "XkEODzCXBXwD",
        "colab_type": "code",
        "colab": {
          "base_uri": "https://localhost:8080/",
          "height": 51
        },
        "outputId": "cc60b74d-2524-43fb-836a-ec98571be4c3"
      },
      "source": [
        "%%time\n",
        "for i in range(100):\n",
        "  a=torch.randn(100,100)\n",
        "  b=torch.randn(100,100)\n",
        "  # c=a*b\n",
        "  c=torch.matmul(a,b)"
      ],
      "execution_count": 15,
      "outputs": [
        {
          "output_type": "stream",
          "text": [
            "CPU times: user 27 ms, sys: 0 ns, total: 27 ms\n",
            "Wall time: 32 ms\n"
          ],
          "name": "stdout"
        }
      ]
    },
    {
      "cell_type": "markdown",
      "metadata": {
        "id": "OmZehXZZCa7N",
        "colab_type": "text"
      },
      "source": [
        "### CUDA SUPPORT"
      ]
    },
    {
      "cell_type": "code",
      "metadata": {
        "id": "LHUi93qLBeYt",
        "colab_type": "code",
        "colab": {
          "base_uri": "https://localhost:8080/",
          "height": 34
        },
        "outputId": "6381d0e5-e200-4cd9-c389-f256ef0bc1c4"
      },
      "source": [
        "print(torch.cuda.device_count())"
      ],
      "execution_count": 16,
      "outputs": [
        {
          "output_type": "stream",
          "text": [
            "1\n"
          ],
          "name": "stdout"
        }
      ]
    },
    {
      "cell_type": "code",
      "metadata": {
        "id": "AYYQa5dzCnuN",
        "colab_type": "code",
        "colab": {
          "base_uri": "https://localhost:8080/",
          "height": 51
        },
        "outputId": "31e3bcd4-37b2-4f15-eb73-e576bdd80b04"
      },
      "source": [
        "print(torch.cuda.device(0))\n",
        "print(torch.cuda.get_device_name(0))"
      ],
      "execution_count": 17,
      "outputs": [
        {
          "output_type": "stream",
          "text": [
            "<torch.cuda.device object at 0x7fc2fb6bc978>\n",
            "Tesla T4\n"
          ],
          "name": "stdout"
        }
      ]
    },
    {
      "cell_type": "code",
      "metadata": {
        "id": "kMBloghuDFWy",
        "colab_type": "code",
        "colab": {}
      },
      "source": [
        "cuda0=torch.device('cuda:0')"
      ],
      "execution_count": 18,
      "outputs": []
    },
    {
      "cell_type": "code",
      "metadata": {
        "id": "mU_sGCY9DRYZ",
        "colab_type": "code",
        "colab": {
          "base_uri": "https://localhost:8080/",
          "height": 51
        },
        "outputId": "43c01bb3-32fd-42a4-f705-e8e7048fd346"
      },
      "source": [
        "%%time\n",
        "for i in range(1000):\n",
        "  a=torch.randn(100,100)\n",
        "  b=torch.randn(100,100)\n",
        "  # c=a*b\n",
        "  c=torch.matmul(a,b)"
      ],
      "execution_count": 19,
      "outputs": [
        {
          "output_type": "stream",
          "text": [
            "CPU times: user 273 ms, sys: 0 ns, total: 273 ms\n",
            "Wall time: 274 ms\n"
          ],
          "name": "stdout"
        }
      ]
    },
    {
      "cell_type": "code",
      "metadata": {
        "id": "4KxqlKNpDlwm",
        "colab_type": "code",
        "colab": {
          "base_uri": "https://localhost:8080/",
          "height": 51
        },
        "outputId": "925d7669-9b49-4e2f-f2fc-edf81ab11954"
      },
      "source": [
        "%%time\n",
        "for i in range(1000):\n",
        "  a=torch.randn([100,100],device=cuda0)\n",
        "  b=torch.randn([100,100],device=cuda0)\n",
        "  # c=a*b\n",
        "  c=torch.matmul(a,b)"
      ],
      "execution_count": 20,
      "outputs": [
        {
          "output_type": "stream",
          "text": [
            "CPU times: user 3.03 s, sys: 1.31 s, total: 4.34 s\n",
            "Wall time: 4.35 s\n"
          ],
          "name": "stdout"
        }
      ]
    },
    {
      "cell_type": "markdown",
      "metadata": {
        "id": "_XF4VTH3NPd6",
        "colab_type": "text"
      },
      "source": [
        "AutoGrad"
      ]
    },
    {
      "cell_type": "code",
      "metadata": {
        "id": "nyDH0KWMDubO",
        "colab_type": "code",
        "colab": {}
      },
      "source": [
        "x=torch.ones([3,2], requires_grad=True)"
      ],
      "execution_count": 33,
      "outputs": []
    },
    {
      "cell_type": "code",
      "metadata": {
        "id": "QLQIbM_1NetL",
        "colab_type": "code",
        "colab": {
          "base_uri": "https://localhost:8080/",
          "height": 68
        },
        "outputId": "7af10472-c85c-4583-c520-e13b76a70280"
      },
      "source": [
        "x"
      ],
      "execution_count": 34,
      "outputs": [
        {
          "output_type": "execute_result",
          "data": {
            "text/plain": [
              "tensor([[1., 1.],\n",
              "        [1., 1.],\n",
              "        [1., 1.]], requires_grad=True)"
            ]
          },
          "metadata": {
            "tags": []
          },
          "execution_count": 34
        }
      ]
    },
    {
      "cell_type": "code",
      "metadata": {
        "id": "1z5v0mjgbL_h",
        "colab_type": "code",
        "colab": {}
      },
      "source": [
        "y=x+5\n",
        "z=y*y+1"
      ],
      "execution_count": 35,
      "outputs": []
    },
    {
      "cell_type": "code",
      "metadata": {
        "id": "4ZghNLRjaprI",
        "colab_type": "code",
        "colab": {
          "base_uri": "https://localhost:8080/",
          "height": 34
        },
        "outputId": "e9e4d320-e342-41a0-dea0-09d946ded11b"
      },
      "source": [
        "sumi=torch.sum(z)\n",
        "sumi"
      ],
      "execution_count": 36,
      "outputs": [
        {
          "output_type": "execute_result",
          "data": {
            "text/plain": [
              "tensor(222., grad_fn=<SumBackward0>)"
            ]
          },
          "metadata": {
            "tags": []
          },
          "execution_count": 36
        }
      ]
    },
    {
      "cell_type": "code",
      "metadata": {
        "id": "O2cEn7K_ayhU",
        "colab_type": "code",
        "colab": {}
      },
      "source": [
        "# Doing a Backward Pass\n",
        "sumi.backward()"
      ],
      "execution_count": 37,
      "outputs": []
    },
    {
      "cell_type": "code",
      "metadata": {
        "id": "DcY7uoO6bBkj",
        "colab_type": "code",
        "colab": {
          "base_uri": "https://localhost:8080/",
          "height": 68
        },
        "outputId": "c4a2fd46-2e86-4248-bc09-bd6e285cf65c"
      },
      "source": [
        "print(x.grad)"
      ],
      "execution_count": 38,
      "outputs": [
        {
          "output_type": "stream",
          "text": [
            "tensor([[12., 12.],\n",
            "        [12., 12.],\n",
            "        [12., 12.]])\n"
          ],
          "name": "stdout"
        }
      ]
    },
    {
      "cell_type": "code",
      "metadata": {
        "id": "cSXtIpidbZTP",
        "colab_type": "code",
        "colab": {
          "base_uri": "https://localhost:8080/",
          "height": 119
        },
        "outputId": "9a2c86ed-344b-45ad-e631-c4f0107d3bb1"
      },
      "source": [
        "x=torch.ones([3,2],requires_grad=True)\n",
        "y=x+5\n",
        "r=1/(1+torch.exp(-y)) #Sigmoid function\n",
        "print(r)\n",
        "s=torch.sum(r)\n",
        "s.backward()\n",
        "print(x.grad)"
      ],
      "execution_count": 39,
      "outputs": [
        {
          "output_type": "stream",
          "text": [
            "tensor([[0.9975, 0.9975],\n",
            "        [0.9975, 0.9975],\n",
            "        [0.9975, 0.9975]], grad_fn=<MulBackward0>)\n",
            "tensor([[0.0025, 0.0025],\n",
            "        [0.0025, 0.0025],\n",
            "        [0.0025, 0.0025]])\n"
          ],
          "name": "stdout"
        }
      ]
    },
    {
      "cell_type": "code",
      "metadata": {
        "id": "9qeJvrNdc14Z",
        "colab_type": "code",
        "colab": {
          "base_uri": "https://localhost:8080/",
          "height": 119
        },
        "outputId": "55d33f14-e869-41c9-8e95-65f78ca230b6"
      },
      "source": [
        "x=torch.ones([3,2],requires_grad=True)\n",
        "y=x+5\n",
        "r=1/(1+torch.exp(-y)) #Sigmoid function\n",
        "print(r)\n",
        "# s=torch.sum(r)\n",
        "a=torch.ones(3,2)\n",
        "r.backward(a)\n",
        "print(x.grad)"
      ],
      "execution_count": 40,
      "outputs": [
        {
          "output_type": "stream",
          "text": [
            "tensor([[0.9975, 0.9975],\n",
            "        [0.9975, 0.9975],\n",
            "        [0.9975, 0.9975]], grad_fn=<MulBackward0>)\n",
            "tensor([[0.0025, 0.0025],\n",
            "        [0.0025, 0.0025],\n",
            "        [0.0025, 0.0025]])\n"
          ],
          "name": "stdout"
        }
      ]
    },
    {
      "cell_type": "code",
      "metadata": {
        "id": "SelT28WpdmEB",
        "colab_type": "code",
        "colab": {}
      },
      "source": [
        ""
      ],
      "execution_count": 40,
      "outputs": []
    },
    {
      "cell_type": "code",
      "metadata": {
        "id": "aopFUcgCeXhJ",
        "colab_type": "code",
        "colab": {}
      },
      "source": [
        "x=torch.randn([20,1], requires_grad=True)\n",
        "y=3*x-2\n"
      ],
      "execution_count": 41,
      "outputs": []
    },
    {
      "cell_type": "code",
      "metadata": {
        "id": "K7L1NQhJej81",
        "colab_type": "code",
        "colab": {}
      },
      "source": [
        "w=torch.tensor([1.], requires_grad=True)\n",
        "b=torch.tensor([1.], requires_grad=True)"
      ],
      "execution_count": 42,
      "outputs": []
    },
    {
      "cell_type": "code",
      "metadata": {
        "id": "3rZd7yWwewpz",
        "colab_type": "code",
        "colab": {}
      },
      "source": [
        "y_hat=w*x+b"
      ],
      "execution_count": 43,
      "outputs": []
    },
    {
      "cell_type": "code",
      "metadata": {
        "id": "VT1zEUjDe23-",
        "colab_type": "code",
        "colab": {}
      },
      "source": [
        "loss=torch.sum((y_hat-y)**2)"
      ],
      "execution_count": 44,
      "outputs": []
    },
    {
      "cell_type": "code",
      "metadata": {
        "id": "Z1GpK3BJe7z-",
        "colab_type": "code",
        "colab": {
          "base_uri": "https://localhost:8080/",
          "height": 34
        },
        "outputId": "478275c0-8412-4f6e-c93e-af7252fd50b9"
      },
      "source": [
        "print(loss)"
      ],
      "execution_count": 45,
      "outputs": [
        {
          "output_type": "stream",
          "text": [
            "tensor(292.5909, grad_fn=<SumBackward0>)\n"
          ],
          "name": "stdout"
        }
      ]
    },
    {
      "cell_type": "code",
      "metadata": {
        "id": "-4oY6bsLe-St",
        "colab_type": "code",
        "colab": {}
      },
      "source": [
        "loss.backward()"
      ],
      "execution_count": 46,
      "outputs": []
    },
    {
      "cell_type": "code",
      "metadata": {
        "id": "nD4amt95fBmr",
        "colab_type": "code",
        "colab": {
          "base_uri": "https://localhost:8080/",
          "height": 34
        },
        "outputId": "54248a33-58a1-4f31-8e4a-c21e2fff6afc"
      },
      "source": [
        "print(w.grad,b.grad) # derivative of loss with respect to w and with respect to b"
      ],
      "execution_count": 47,
      "outputs": [
        {
          "output_type": "stream",
          "text": [
            "tensor([-96.8343]) tensor([130.5045])\n"
          ],
          "name": "stdout"
        }
      ]
    },
    {
      "cell_type": "markdown",
      "metadata": {
        "id": "j3fCiNiIf5h6",
        "colab_type": "text"
      },
      "source": [
        "### Doing it in a loop"
      ]
    },
    {
      "cell_type": "code",
      "metadata": {
        "id": "ZPlP3uJofFEs",
        "colab_type": "code",
        "colab": {}
      },
      "source": [
        "learning_rate=0.01\n",
        "w=torch.tensor([1.], requires_grad=True)\n",
        "b=torch.tensor([1.], requires_grad=True)\n"
      ],
      "execution_count": 54,
      "outputs": []
    },
    {
      "cell_type": "code",
      "metadata": {
        "id": "oZ0MzJDQgCgo",
        "colab_type": "code",
        "colab": {
          "base_uri": "https://localhost:8080/",
          "height": 221
        },
        "outputId": "4f4a2ca7-0f46-4ee3-a201-2478ef5c86c5"
      },
      "source": [
        "print(w.item(),b.item())\n",
        "print('********************')\n",
        "for i in range(10):\n",
        "  x=torch.randn([20, 1])\n",
        "  y=3*x-2\n",
        "\n",
        "  y_hat=w*x+b\n",
        "  loss=torch.sum((y_hat-y)**2)\n",
        "  loss.backward()\n",
        "\n",
        "  with torch.no_grad():\n",
        "    w-=learning_rate*w.grad\n",
        "    b-=learning_rate*b.grad\n",
        "\n",
        "    w.grad.zero_()\n",
        "    b.grad.zero_()\n",
        "  \n",
        "  print(w.item(),b.item())\n",
        "\n"
      ],
      "execution_count": 55,
      "outputs": [
        {
          "output_type": "stream",
          "text": [
            "1.0 1.0\n",
            "********************\n",
            "1.4751468896865845 0.331703782081604\n",
            "1.5946309566497803 -0.35801422595977783\n",
            "2.0782182216644287 -1.0194096565246582\n",
            "2.2912938594818115 -1.4155011177062988\n",
            "2.5187995433807373 -1.654730200767517\n",
            "2.657292604446411 -1.8051912784576416\n",
            "2.763023614883423 -1.8711755275726318\n",
            "2.8767402172088623 -1.9252744913101196\n",
            "2.9173130989074707 -1.9439148902893066\n",
            "2.931438684463501 -1.960207462310791\n"
          ],
          "name": "stdout"
        }
      ]
    },
    {
      "cell_type": "markdown",
      "metadata": {
        "id": "efKB2iRWjwRp",
        "colab_type": "text"
      },
      "source": [
        "## Every tensor that you create have an argument device=cuda0"
      ]
    },
    {
      "cell_type": "code",
      "metadata": {
        "id": "G4641GsdgyGP",
        "colab_type": "code",
        "colab": {}
      },
      "source": [
        ""
      ],
      "execution_count": 58,
      "outputs": []
    },
    {
      "cell_type": "code",
      "metadata": {
        "id": "i2PjrG5Mm2Vs",
        "colab_type": "code",
        "colab": {
          "base_uri": "https://localhost:8080/",
          "height": 34
        },
        "outputId": "a17f1dfc-9412-44f0-88e3-14ce4d5e1083"
      },
      "source": [
        ""
      ],
      "execution_count": 57,
      "outputs": [
        {
          "output_type": "execute_result",
          "data": {
            "text/plain": [
              "<torch._C.Generator at 0x7fc345df4240>"
            ]
          },
          "metadata": {
            "tags": []
          },
          "execution_count": 57
        }
      ]
    },
    {
      "cell_type": "code",
      "metadata": {
        "id": "r5t0sov7nA9r",
        "colab_type": "code",
        "colab": {}
      },
      "source": [
        ""
      ],
      "execution_count": null,
      "outputs": []
    }
  ]
}